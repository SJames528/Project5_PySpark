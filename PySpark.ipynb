{
 "cells": [
  {
   "cell_type": "markdown",
   "metadata": {},
   "source": [
    "# Preliminaries"
   ]
  },
  {
   "cell_type": "code",
   "execution_count": 7,
   "metadata": {},
   "outputs": [],
   "source": [
    "import csv\n",
    "import os\n",
    "#from pyspark import SparkContext\n",
    "#import numpy as np\n",
    "#sc = SparkContext(\"local\", \"encoding program\")"
   ]
  },
  {
   "cell_type": "markdown",
   "metadata": {},
   "source": [
    "# Key generation"
   ]
  },
  {
   "cell_type": "markdown",
   "metadata": {},
   "source": [
    "We start our RSA algorithm by choosing some parameters. First, we need to select two primes:"
   ]
  },
  {
   "cell_type": "code",
   "execution_count": 8,
   "metadata": {},
   "outputs": [],
   "source": [
    "p=65497\n",
    "q=66361"
   ]
  },
  {
   "cell_type": "markdown",
   "metadata": {},
   "source": [
    "We proceed by calculating their product $n$, and the number of divisors of $n$, denoted normally by $\\phi (n)$"
   ]
  },
  {
   "cell_type": "code",
   "execution_count": 9,
   "metadata": {},
   "outputs": [],
   "source": [
    "n=p*q\n",
    "phi_n=(p-1)*(q-1)"
   ]
  },
  {
   "cell_type": "markdown",
   "metadata": {},
   "source": [
    "Next, we choose a number which is coprime to $n$. This should theoretically be random, but to make our calculations easier later, we choose $e$ to be $65537=2^{16}+1$ which is prime, and hence coprime to $n$."
   ]
  },
  {
   "cell_type": "code",
   "execution_count": 10,
   "metadata": {},
   "outputs": [],
   "source": [
    "e=65537"
   ]
  },
  {
   "cell_type": "markdown",
   "metadata": {},
   "source": [
    "This algorithm is to calculate the inverse of $e$ modulo $\\phi(n)$."
   ]
  },
  {
   "cell_type": "code",
   "execution_count": 11,
   "metadata": {},
   "outputs": [],
   "source": [
    "def euclidAlg(x,y):\n",
    "    gcd=1\n",
    "    if y>x:\n",
    "        u=x\n",
    "        x=y\n",
    "        y=u\n",
    "    fst=x\n",
    "    scnd=y\n",
    "    while x%y!=0:\n",
    "        gcd=x%y\n",
    "        x=y\n",
    "        y=gcd\n",
    "    a_list=[]\n",
    "    y_list=[0]\n",
    "    x1=fst\n",
    "    x2=scnd\n",
    "    yi=0\n",
    "    while yi!=gcd:\n",
    "        yi=x1%x2\n",
    "        ai=(x1-yi)/x2\n",
    "        a_list.append(ai)\n",
    "        y_list.append(yi)\n",
    "        x1=x2\n",
    "        x2=yi\n",
    "    c1=1\n",
    "    c2=-1*a_list[-1]\n",
    "    for i in range(1,(len(a_list))):\n",
    "        if i%2 == 1:\n",
    "            c1=c1+(-1*c2)*a_list[-(i+1)]\n",
    "        else:\n",
    "            c2=c2+(-1*c1)*a_list[-(i+1)]\n",
    "    if len(a_list)%2==0:\n",
    "        m1=scnd\n",
    "        m2=fst\n",
    "        d=c1\n",
    "    else:\n",
    "        m1=fst\n",
    "        m2=scnd\n",
    "        d=c2\n",
    "    print(\"%i * %i + %i * %i = %i\" % (c1, m1, c2, m2, gcd))\n",
    "    return(d)"
   ]
  },
  {
   "cell_type": "code",
   "execution_count": 12,
   "metadata": {},
   "outputs": [
    {
     "name": "stdout",
     "output_type": "stream",
     "text": [
      "4405 * 4346314560 + -292132927 * 65537 = 1\n"
     ]
    }
   ],
   "source": [
    "d=euclidAlg(phi_n,e)"
   ]
  },
  {
   "cell_type": "markdown",
   "metadata": {},
   "source": [
    "Since $\\phi(n)=4346314560$, taking both sides modulo $\\phi(n)$ yeilds that the inverse of $e\\;(65537)$ is $-292132927$, or $4054181633$. This extra step is necessary for real RSA, but will not affect us here since we will not try to decode."
   ]
  },
  {
   "cell_type": "code",
   "execution_count": 22,
   "metadata": {},
   "outputs": [],
   "source": [
    "pub_key=[e,n]\n",
    "priv_key=[d,n]"
   ]
  },
  {
   "cell_type": "code",
   "execution_count": null,
   "metadata": {},
   "outputs": [],
   "source": []
  },
  {
   "cell_type": "markdown",
   "metadata": {},
   "source": [
    "# Encoding"
   ]
  },
  {
   "cell_type": "markdown",
   "metadata": {},
   "source": [
    "First we need the binary representation of the document we are encrypting, in a list"
   ]
  },
  {
   "cell_type": "code",
   "execution_count": 23,
   "metadata": {},
   "outputs": [],
   "source": [
    "path=os.getcwd()\n",
    "fileread=open(path+\"/DoiBin.csv\", \"r\")\n",
    "data=[int(x) for x in list(csv.reader(fileread))[0]]"
   ]
  },
  {
   "cell_type": "markdown",
   "metadata": {},
   "source": [
    "Now we parallelise the list to enable it to work in pySpark. We also need a second copy of the original data, which we need for the final calculation $ m^e \\;=\\; m^{{2^16}+1}\\;=\\;m^{{2^16}} \\times m$, so to encrypt $m$ we simply need to square it sixteen times and multiply by $m$, reducing modulo $n$"
   ]
  },
  {
   "cell_type": "code",
   "execution_count": 24,
   "metadata": {},
   "outputs": [],
   "source": [
    "rdd=sc.parallelize(data)\n",
    "md=rdd.map(lambda a: a)"
   ]
  },
  {
   "cell_type": "markdown",
   "metadata": {},
   "source": [
    "We now perform the calculation described above. Having parallelised the data, it is simple to write functions to square each entry and reduce modulo $n$, sixteen times"
   ]
  },
  {
   "cell_type": "code",
   "execution_count": 25,
   "metadata": {},
   "outputs": [],
   "source": [
    "for f in range(1,17):\n",
    "    squ=md.map(lambda a: a**2)\n",
    "    md=squ.map(lambda a: a%n)"
   ]
  },
  {
   "cell_type": "markdown",
   "metadata": {},
   "source": [
    "We now perform the final step, multiplying by the original value of $m$, and formatting back into a list"
   ]
  },
  {
   "cell_type": "code",
   "execution_count": 26,
   "metadata": {},
   "outputs": [],
   "source": [
    "a=np.array(rdd.collect())\n",
    "b=np.array(md.collect())\n",
    "C=list(a*b)\n",
    "E=[x%n for x in C]"
   ]
  },
  {
   "cell_type": "markdown",
   "metadata": {},
   "source": [
    "These are the first few values in our encrypted list. Without knowing the prime decomposition of $n$, an attacker cannot decrypt (since they need to know $d$, which requires knowing $\\phi(n)$, which requires knowing the values of $p$ and $q$). So cracking the code is as hard as recovering $p$ and $q$ from $n$, which is more difficult as $n$ gets larger."
   ]
  },
  {
   "cell_type": "code",
   "execution_count": 31,
   "metadata": {},
   "outputs": [
    {
     "data": {
      "text/plain": [
       "[57268, 6968, 27530, 17915, 40406, 47315, 13736, 52806, 35109, 47162]"
      ]
     },
     "execution_count": 31,
     "metadata": {},
     "output_type": "execute_result"
    }
   ],
   "source": [
    "E[0:10]"
   ]
  }
 ],
 "metadata": {
  "kernelspec": {
   "display_name": "Python 3",
   "language": "python",
   "name": "python3"
  },
  "language_info": {
   "codemirror_mode": {
    "name": "ipython",
    "version": 3
   },
   "file_extension": ".py",
   "mimetype": "text/x-python",
   "name": "python",
   "nbconvert_exporter": "python",
   "pygments_lexer": "ipython3",
   "version": "3.7.3"
  }
 },
 "nbformat": 4,
 "nbformat_minor": 2
}
